{
 "cells": [
  {
   "cell_type": "code",
   "execution_count": 1,
   "metadata": {
    "collapsed": true
   },
   "outputs": [],
   "source": [
    "import pandas as pd\n",
    "import numpy as np"
   ]
  },
  {
   "cell_type": "code",
   "execution_count": 2,
   "metadata": {
    "collapsed": true
   },
   "outputs": [],
   "source": [
    "train = pd.read_csv('data/train_app_bureau_merged.csv')"
   ]
  },
  {
   "cell_type": "code",
   "execution_count": 3,
   "metadata": {
    "collapsed": true
   },
   "outputs": [],
   "source": [
    "#test = pd.read_csv('data/test_app_bureau_merged.csv')"
   ]
  },
  {
   "cell_type": "code",
   "execution_count": 3,
   "metadata": {},
   "outputs": [
    {
     "data": {
      "text/html": [
       "<div>\n",
       "<style scoped>\n",
       "    .dataframe tbody tr th:only-of-type {\n",
       "        vertical-align: middle;\n",
       "    }\n",
       "\n",
       "    .dataframe tbody tr th {\n",
       "        vertical-align: top;\n",
       "    }\n",
       "\n",
       "    .dataframe thead th {\n",
       "        text-align: right;\n",
       "    }\n",
       "</style>\n",
       "<table border=\"1\" class=\"dataframe\">\n",
       "  <thead>\n",
       "    <tr style=\"text-align: right;\">\n",
       "      <th></th>\n",
       "      <th>SK_ID_CURR</th>\n",
       "      <th>NAME_CONTRACT_TYPE</th>\n",
       "      <th>FLAG_OWN_CAR</th>\n",
       "      <th>FLAG_OWN_REALTY</th>\n",
       "      <th>CNT_CHILDREN</th>\n",
       "      <th>AMT_INCOME_TOTAL</th>\n",
       "      <th>AMT_CREDIT</th>\n",
       "      <th>AMT_ANNUITY</th>\n",
       "      <th>AMT_GOODS_PRICE</th>\n",
       "      <th>REGION_POPULATION_RELATIVE</th>\n",
       "      <th>...</th>\n",
       "      <th>client_bureau_balance_STATUS_X_count_sum</th>\n",
       "      <th>client_bureau_balance_STATUS_X_count_norm_count</th>\n",
       "      <th>client_bureau_balance_STATUS_X_count_norm_mean</th>\n",
       "      <th>client_bureau_balance_STATUS_X_count_norm_max</th>\n",
       "      <th>client_bureau_balance_STATUS_X_count_norm_min</th>\n",
       "      <th>client_bureau_balance_STATUS_X_count_norm_sum</th>\n",
       "      <th>ANNUITY_INCOME_PERCENT</th>\n",
       "      <th>CREDIT_TERM</th>\n",
       "      <th>DAYS_EMPLOYED_PERCENT</th>\n",
       "      <th>TARGET</th>\n",
       "    </tr>\n",
       "  </thead>\n",
       "  <tbody>\n",
       "    <tr>\n",
       "      <th>0</th>\n",
       "      <td>100002</td>\n",
       "      <td>0</td>\n",
       "      <td>0</td>\n",
       "      <td>1</td>\n",
       "      <td>0</td>\n",
       "      <td>202500.0</td>\n",
       "      <td>406597.5</td>\n",
       "      <td>24700.5</td>\n",
       "      <td>351000.0</td>\n",
       "      <td>0.018801</td>\n",
       "      <td>...</td>\n",
       "      <td>15.0</td>\n",
       "      <td>8.0</td>\n",
       "      <td>0.161932</td>\n",
       "      <td>0.5</td>\n",
       "      <td>0.0</td>\n",
       "      <td>1.295455</td>\n",
       "      <td>0.121978</td>\n",
       "      <td>0.060749</td>\n",
       "      <td>-0.067329</td>\n",
       "      <td>1</td>\n",
       "    </tr>\n",
       "    <tr>\n",
       "      <th>1</th>\n",
       "      <td>100003</td>\n",
       "      <td>0</td>\n",
       "      <td>0</td>\n",
       "      <td>0</td>\n",
       "      <td>0</td>\n",
       "      <td>270000.0</td>\n",
       "      <td>1293502.5</td>\n",
       "      <td>35698.5</td>\n",
       "      <td>1129500.0</td>\n",
       "      <td>0.003541</td>\n",
       "      <td>...</td>\n",
       "      <td>0.0</td>\n",
       "      <td>0.0</td>\n",
       "      <td>NaN</td>\n",
       "      <td>NaN</td>\n",
       "      <td>NaN</td>\n",
       "      <td>0.000000</td>\n",
       "      <td>0.132217</td>\n",
       "      <td>0.027598</td>\n",
       "      <td>-0.070862</td>\n",
       "      <td>0</td>\n",
       "    </tr>\n",
       "    <tr>\n",
       "      <th>2</th>\n",
       "      <td>100004</td>\n",
       "      <td>1</td>\n",
       "      <td>1</td>\n",
       "      <td>1</td>\n",
       "      <td>0</td>\n",
       "      <td>67500.0</td>\n",
       "      <td>135000.0</td>\n",
       "      <td>6750.0</td>\n",
       "      <td>135000.0</td>\n",
       "      <td>0.010032</td>\n",
       "      <td>...</td>\n",
       "      <td>0.0</td>\n",
       "      <td>0.0</td>\n",
       "      <td>NaN</td>\n",
       "      <td>NaN</td>\n",
       "      <td>NaN</td>\n",
       "      <td>0.000000</td>\n",
       "      <td>0.100000</td>\n",
       "      <td>0.050000</td>\n",
       "      <td>-0.011814</td>\n",
       "      <td>0</td>\n",
       "    </tr>\n",
       "    <tr>\n",
       "      <th>3</th>\n",
       "      <td>100006</td>\n",
       "      <td>0</td>\n",
       "      <td>0</td>\n",
       "      <td>1</td>\n",
       "      <td>0</td>\n",
       "      <td>135000.0</td>\n",
       "      <td>312682.5</td>\n",
       "      <td>29686.5</td>\n",
       "      <td>297000.0</td>\n",
       "      <td>0.008019</td>\n",
       "      <td>...</td>\n",
       "      <td>NaN</td>\n",
       "      <td>NaN</td>\n",
       "      <td>NaN</td>\n",
       "      <td>NaN</td>\n",
       "      <td>NaN</td>\n",
       "      <td>NaN</td>\n",
       "      <td>0.219900</td>\n",
       "      <td>0.094941</td>\n",
       "      <td>-0.159905</td>\n",
       "      <td>0</td>\n",
       "    </tr>\n",
       "    <tr>\n",
       "      <th>4</th>\n",
       "      <td>100007</td>\n",
       "      <td>0</td>\n",
       "      <td>0</td>\n",
       "      <td>1</td>\n",
       "      <td>0</td>\n",
       "      <td>121500.0</td>\n",
       "      <td>513000.0</td>\n",
       "      <td>21865.5</td>\n",
       "      <td>513000.0</td>\n",
       "      <td>0.028663</td>\n",
       "      <td>...</td>\n",
       "      <td>0.0</td>\n",
       "      <td>0.0</td>\n",
       "      <td>NaN</td>\n",
       "      <td>NaN</td>\n",
       "      <td>NaN</td>\n",
       "      <td>0.000000</td>\n",
       "      <td>0.179963</td>\n",
       "      <td>0.042623</td>\n",
       "      <td>-0.152418</td>\n",
       "      <td>0</td>\n",
       "    </tr>\n",
       "  </tbody>\n",
       "</table>\n",
       "<p>5 rows × 455 columns</p>\n",
       "</div>"
      ],
      "text/plain": [
       "   SK_ID_CURR  NAME_CONTRACT_TYPE  FLAG_OWN_CAR  FLAG_OWN_REALTY  \\\n",
       "0      100002                   0             0                1   \n",
       "1      100003                   0             0                0   \n",
       "2      100004                   1             1                1   \n",
       "3      100006                   0             0                1   \n",
       "4      100007                   0             0                1   \n",
       "\n",
       "   CNT_CHILDREN  AMT_INCOME_TOTAL  AMT_CREDIT  AMT_ANNUITY  AMT_GOODS_PRICE  \\\n",
       "0             0          202500.0    406597.5      24700.5         351000.0   \n",
       "1             0          270000.0   1293502.5      35698.5        1129500.0   \n",
       "2             0           67500.0    135000.0       6750.0         135000.0   \n",
       "3             0          135000.0    312682.5      29686.5         297000.0   \n",
       "4             0          121500.0    513000.0      21865.5         513000.0   \n",
       "\n",
       "   REGION_POPULATION_RELATIVE   ...    \\\n",
       "0                    0.018801   ...     \n",
       "1                    0.003541   ...     \n",
       "2                    0.010032   ...     \n",
       "3                    0.008019   ...     \n",
       "4                    0.028663   ...     \n",
       "\n",
       "   client_bureau_balance_STATUS_X_count_sum  \\\n",
       "0                                      15.0   \n",
       "1                                       0.0   \n",
       "2                                       0.0   \n",
       "3                                       NaN   \n",
       "4                                       0.0   \n",
       "\n",
       "   client_bureau_balance_STATUS_X_count_norm_count  \\\n",
       "0                                              8.0   \n",
       "1                                              0.0   \n",
       "2                                              0.0   \n",
       "3                                              NaN   \n",
       "4                                              0.0   \n",
       "\n",
       "   client_bureau_balance_STATUS_X_count_norm_mean  \\\n",
       "0                                        0.161932   \n",
       "1                                             NaN   \n",
       "2                                             NaN   \n",
       "3                                             NaN   \n",
       "4                                             NaN   \n",
       "\n",
       "   client_bureau_balance_STATUS_X_count_norm_max  \\\n",
       "0                                            0.5   \n",
       "1                                            NaN   \n",
       "2                                            NaN   \n",
       "3                                            NaN   \n",
       "4                                            NaN   \n",
       "\n",
       "   client_bureau_balance_STATUS_X_count_norm_min  \\\n",
       "0                                            0.0   \n",
       "1                                            NaN   \n",
       "2                                            NaN   \n",
       "3                                            NaN   \n",
       "4                                            NaN   \n",
       "\n",
       "   client_bureau_balance_STATUS_X_count_norm_sum  ANNUITY_INCOME_PERCENT  \\\n",
       "0                                       1.295455                0.121978   \n",
       "1                                       0.000000                0.132217   \n",
       "2                                       0.000000                0.100000   \n",
       "3                                            NaN                0.219900   \n",
       "4                                       0.000000                0.179963   \n",
       "\n",
       "   CREDIT_TERM  DAYS_EMPLOYED_PERCENT  TARGET  \n",
       "0     0.060749              -0.067329       1  \n",
       "1     0.027598              -0.070862       0  \n",
       "2     0.050000              -0.011814       0  \n",
       "3     0.094941              -0.159905       0  \n",
       "4     0.042623              -0.152418       0  \n",
       "\n",
       "[5 rows x 455 columns]"
      ]
     },
     "execution_count": 3,
     "metadata": {},
     "output_type": "execute_result"
    }
   ],
   "source": [
    "train.head()"
   ]
  },
  {
   "cell_type": "code",
   "execution_count": 4,
   "metadata": {},
   "outputs": [
    {
     "data": {
      "text/plain": [
       "SK_ID_CURR                                         100006.000000\n",
       "NAME_CONTRACT_TYPE                                      0.000000\n",
       "FLAG_OWN_CAR                                            0.000000\n",
       "FLAG_OWN_REALTY                                         1.000000\n",
       "CNT_CHILDREN                                            0.000000\n",
       "AMT_INCOME_TOTAL                                   135000.000000\n",
       "AMT_CREDIT                                         312682.500000\n",
       "AMT_ANNUITY                                         29686.500000\n",
       "AMT_GOODS_PRICE                                    297000.000000\n",
       "REGION_POPULATION_RELATIVE                              0.008019\n",
       "DAYS_BIRTH                                          19005.000000\n",
       "DAYS_EMPLOYED                                       -3039.000000\n",
       "DAYS_REGISTRATION                                   -9833.000000\n",
       "DAYS_ID_PUBLISH                                     -2437.000000\n",
       "OWN_CAR_AGE                                             0.000000\n",
       "FLAG_MOBIL                                              1.000000\n",
       "FLAG_EMP_PHONE                                          1.000000\n",
       "FLAG_WORK_PHONE                                         0.000000\n",
       "FLAG_CONT_MOBILE                                        1.000000\n",
       "FLAG_PHONE                                              0.000000\n",
       "FLAG_EMAIL                                              0.000000\n",
       "CNT_FAM_MEMBERS                                         2.000000\n",
       "REGION_RATING_CLIENT                                    2.000000\n",
       "REGION_RATING_CLIENT_W_CITY                             2.000000\n",
       "HOUR_APPR_PROCESS_START                                17.000000\n",
       "REG_REGION_NOT_LIVE_REGION                              0.000000\n",
       "REG_REGION_NOT_WORK_REGION                              0.000000\n",
       "LIVE_REGION_NOT_WORK_REGION                             0.000000\n",
       "REG_CITY_NOT_LIVE_CITY                                  0.000000\n",
       "REG_CITY_NOT_WORK_CITY                                  0.000000\n",
       "                                                       ...      \n",
       "client_bureau_balance_STATUS_5_count_sum                     NaN\n",
       "client_bureau_balance_STATUS_5_count_norm_count              NaN\n",
       "client_bureau_balance_STATUS_5_count_norm_mean               NaN\n",
       "client_bureau_balance_STATUS_5_count_norm_max                NaN\n",
       "client_bureau_balance_STATUS_5_count_norm_min                NaN\n",
       "client_bureau_balance_STATUS_5_count_norm_sum                NaN\n",
       "client_bureau_balance_STATUS_C_count_count                   NaN\n",
       "client_bureau_balance_STATUS_C_count_mean                    NaN\n",
       "client_bureau_balance_STATUS_C_count_max                     NaN\n",
       "client_bureau_balance_STATUS_C_count_min                     NaN\n",
       "client_bureau_balance_STATUS_C_count_sum                     NaN\n",
       "client_bureau_balance_STATUS_C_count_norm_count              NaN\n",
       "client_bureau_balance_STATUS_C_count_norm_mean               NaN\n",
       "client_bureau_balance_STATUS_C_count_norm_max                NaN\n",
       "client_bureau_balance_STATUS_C_count_norm_min                NaN\n",
       "client_bureau_balance_STATUS_C_count_norm_sum                NaN\n",
       "client_bureau_balance_STATUS_X_count_count                   NaN\n",
       "client_bureau_balance_STATUS_X_count_mean                    NaN\n",
       "client_bureau_balance_STATUS_X_count_max                     NaN\n",
       "client_bureau_balance_STATUS_X_count_min                     NaN\n",
       "client_bureau_balance_STATUS_X_count_sum                     NaN\n",
       "client_bureau_balance_STATUS_X_count_norm_count              NaN\n",
       "client_bureau_balance_STATUS_X_count_norm_mean               NaN\n",
       "client_bureau_balance_STATUS_X_count_norm_max                NaN\n",
       "client_bureau_balance_STATUS_X_count_norm_min                NaN\n",
       "client_bureau_balance_STATUS_X_count_norm_sum                NaN\n",
       "ANNUITY_INCOME_PERCENT                                  0.219900\n",
       "CREDIT_TERM                                             0.094941\n",
       "DAYS_EMPLOYED_PERCENT                                  -0.159905\n",
       "TARGET                                                  0.000000\n",
       "Name: 3, Length: 455, dtype: float64"
      ]
     },
     "execution_count": 4,
     "metadata": {},
     "output_type": "execute_result"
    }
   ],
   "source": [
    "train.iloc[3]"
   ]
  },
  {
   "cell_type": "markdown",
   "metadata": {},
   "source": [
    "# Adding three new features"
   ]
  },
  {
   "cell_type": "code",
   "execution_count": 4,
   "metadata": {
    "collapsed": true
   },
   "outputs": [],
   "source": [
    "train['ANNUITY_INCOME_PERCENT'] = train['AMT_ANNUITY'] / train['AMT_INCOME_TOTAL']\n",
    "train['CREDIT_TERM'] = train['AMT_ANNUITY'] / train['AMT_CREDIT']\n",
    "train['DAYS_EMPLOYED_PERCENT'] = train['DAYS_EMPLOYED'] / train['DAYS_BIRTH']"
   ]
  },
  {
   "cell_type": "code",
   "execution_count": 6,
   "metadata": {
    "collapsed": true
   },
   "outputs": [],
   "source": [
    "test['ANNUITY_INCOME_PERCENT'] = test['AMT_ANNUITY'] / test['AMT_INCOME_TOTAL']\n",
    "test['CREDIT_TERM'] = test['AMT_ANNUITY'] / test['AMT_CREDIT']\n",
    "test['DAYS_EMPLOYED_PERCENT'] = test['DAYS_EMPLOYED'] / test['DAYS_BIRTH']"
   ]
  },
  {
   "cell_type": "code",
   "execution_count": 8,
   "metadata": {
    "collapsed": true
   },
   "outputs": [],
   "source": [
    "train_labels = train['TARGET']\n",
    "\n",
    "# Align the dataframes, this will remove the 'TARGET' column\n",
    "train, test = train.align(test, join = 'inner', axis = 1)\n",
    "\n",
    "train['TARGET'] = train_labels"
   ]
  },
  {
   "cell_type": "code",
   "execution_count": 7,
   "metadata": {},
   "outputs": [
    {
     "name": "stdout",
     "output_type": "stream",
     "text": [
      "('Training Data Shape: ', (307511, 455))\n",
      "('Testing Data Shape: ', (48744, 454))\n"
     ]
    }
   ],
   "source": [
    "print('Training Data Shape: ', train.shape)\n",
    "print('Testing Data Shape: ', test.shape)"
   ]
  },
  {
   "cell_type": "code",
   "execution_count": 5,
   "metadata": {},
   "outputs": [
    {
     "name": "stdout",
     "output_type": "stream",
     "text": [
      "('Training Data Shape: ', (307511, 452))\n",
      "('Testing Data Shape: ', (48744, 451))\n"
     ]
    }
   ],
   "source": [
    "print('Training Data Shape: ', train.shape)\n",
    "print('Testing Data Shape: ', test.shape)"
   ]
  },
  {
   "cell_type": "code",
   "execution_count": 9,
   "metadata": {
    "collapsed": true
   },
   "outputs": [],
   "source": [
    "train.to_csv('data/train_app_bureau_merged.csv',index=False)"
   ]
  },
  {
   "cell_type": "code",
   "execution_count": 10,
   "metadata": {
    "collapsed": true
   },
   "outputs": [],
   "source": [
    "test.to_csv('data/test_app_bureau_merged.csv',index=False)"
   ]
  },
  {
   "cell_type": "code",
   "execution_count": null,
   "metadata": {
    "collapsed": true
   },
   "outputs": [],
   "source": []
  }
 ],
 "metadata": {
  "kernelspec": {
   "display_name": "Python 2",
   "language": "python",
   "name": "python2"
  },
  "language_info": {
   "codemirror_mode": {
    "name": "ipython",
    "version": 2
   },
   "file_extension": ".py",
   "mimetype": "text/x-python",
   "name": "python",
   "nbconvert_exporter": "python",
   "pygments_lexer": "ipython2",
   "version": "2.7.14"
  }
 },
 "nbformat": 4,
 "nbformat_minor": 2
}
