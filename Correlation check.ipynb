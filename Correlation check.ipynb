{
 "cells": [
  {
   "cell_type": "code",
   "execution_count": 1,
   "metadata": {},
   "outputs": [],
   "source": [
    "import pandas as pd\n",
    "import gc"
   ]
  },
  {
   "cell_type": "markdown",
   "metadata": {},
   "source": [
    "# Correlation with main application"
   ]
  },
  {
   "cell_type": "code",
   "execution_count": 3,
   "metadata": {},
   "outputs": [],
   "source": [
    "X_data = pd.read_csv('data/home_bureau/')"
   ]
  },
  {
   "cell_type": "code",
   "execution_count": 19,
   "metadata": {},
   "outputs": [],
   "source": [
    "corr = X_data.corr()['TARGET'].sort_values()"
   ]
  },
  {
   "cell_type": "code",
   "execution_count": 16,
   "metadata": {},
   "outputs": [],
   "source": [
    "#sns.heatmap(correlations, cmap = plt.cm.RdYlBu_r, vmin = -0.25, annot = True, vmax = 0.6)\n",
    "#plt.title('Correlation Heatmap')"
   ]
  },
  {
   "cell_type": "code",
   "execution_count": 20,
   "metadata": {},
   "outputs": [],
   "source": [
    "df_corr = corr.to_frame()\n",
    "n = len(df_corr.index)\n",
    "min_corr=df_corr.iloc[int(n/2-26):int(n/2+10)]"
   ]
  },
  {
   "cell_type": "code",
   "execution_count": 21,
   "metadata": {},
   "outputs": [],
   "source": [
    "col_to_remove_corr = list(min_corr.index)"
   ]
  },
  {
   "cell_type": "code",
   "execution_count": 22,
   "metadata": {},
   "outputs": [],
   "source": [
    "X_data.drop(col_to_remove_corr,axis=1,inplace=True)"
   ]
  },
  {
   "cell_type": "code",
   "execution_count": 23,
   "metadata": {},
   "outputs": [],
   "source": [
    "X_data.to_csv('result_data/train_app_bu_mer_corr_drp.csv')"
   ]
  },
  {
   "cell_type": "code",
   "execution_count": 24,
   "metadata": {},
   "outputs": [],
   "source": [
    "# Repeat for test data\n",
    "Test = pd.read_csv('data/home_bureau/test_app_bureau_merged.csv')"
   ]
  },
  {
   "cell_type": "code",
   "execution_count": 25,
   "metadata": {},
   "outputs": [],
   "source": [
    "Test.drop(col_to_remove_corr,axis=1,inplace=True)"
   ]
  },
  {
   "cell_type": "code",
   "execution_count": 26,
   "metadata": {},
   "outputs": [],
   "source": [
    "Test.to_csv('result_data/test_app_bu_mer_corr_drp.csv')"
   ]
  },
  {
   "cell_type": "markdown",
   "metadata": {},
   "source": [
    "# Correlation from feature tools for bureau:\n",
    "Automatic Tools:\n",
    "    MODE(bureau.CREDIT_ACTIVE)_Closed      -0.070201\n",
    "NAME_EDUCATION_TYPE_Higher education   -0.056593\n",
    "\n",
    "MIN(previous_app.MEAN(credit.CNT_DRAWINGS_ATM_CURRENT))     0.102765\n",
    "MEAN(credit.CNT_DRAWINGS_ATM_CURRENT)                       0.102774\n",
    "MEAN(previous_app.MEAN(credit.CNT_DRAWINGS_ATM_CURRENT))    0.102917\n",
    "MAX(previous_app.MEAN(credit.CNT_DRAWINGS_ATM_CURRENT))     0.102996\n",
    "\n",
    "MAX(bureau.DAYS_CREDIT)\n",
    "MAX(bureau.DAYS_CREDIT_ENDDATE)\n",
    "SUM(previous_app.MIN(installments.AMT_PAYMENT))\t101.8\n",
    "MAX(bureau.DAYS_ENDDATE_FACT)\t99.6\n",
    "MEAN(previous_app.MIN(installments.AMT_PAYMENT))\t99.0"
   ]
  },
  {
   "cell_type": "code",
   "execution_count": 8,
   "metadata": {},
   "outputs": [],
   "source": [
    "# Merging columns\n",
    "A = pd.read_csv('result_data/test_app_bureau_merged.csv')"
   ]
  },
  {
   "cell_type": "code",
   "execution_count": 9,
   "metadata": {},
   "outputs": [],
   "source": [
    "B = pd.read_csv('result_data/prev_application_merged.csv')"
   ]
  },
  {
   "cell_type": "code",
   "execution_count": 10,
   "metadata": {},
   "outputs": [],
   "source": [
    "C = A.merge(B, on='SK_ID_CURR',how='left')"
   ]
  },
  {
   "cell_type": "code",
   "execution_count": 8,
   "metadata": {},
   "outputs": [
    {
     "name": "stdout",
     "output_type": "stream",
     "text": [
      "<class 'pandas.core.frame.DataFrame'>\n",
      "RangeIndex: 307511 entries, 0 to 307510\n",
      "Columns: 455 entries, SK_ID_CURR to TARGET\n",
      "dtypes: float64(280), int64(175)\n",
      "memory usage: 1.0 GB\n"
     ]
    }
   ],
   "source": [
    "A.info()"
   ]
  },
  {
   "cell_type": "code",
   "execution_count": 9,
   "metadata": {},
   "outputs": [
    {
     "name": "stdout",
     "output_type": "stream",
     "text": [
      "<class 'pandas.core.frame.DataFrame'>\n",
      "RangeIndex: 342091 entries, 0 to 342090\n",
      "Columns: 286 entries, SK_ID_CURR to previous_NAME_CONTRACT_TYPE_Cash loans_count\n",
      "dtypes: float64(279), object(7)\n",
      "memory usage: 746.4+ MB\n"
     ]
    }
   ],
   "source": [
    "B.info()"
   ]
  },
  {
   "cell_type": "code",
   "execution_count": 6,
   "metadata": {},
   "outputs": [
    {
     "name": "stdout",
     "output_type": "stream",
     "text": [
      "<class 'pandas.core.frame.DataFrame'>\n",
      "Int64Index: 307511 entries, 0 to 307510\n",
      "Columns: 740 entries, SK_ID_CURR to previous_NAME_CONTRACT_TYPE_Cash loans_count\n",
      "dtypes: float64(565), int64(175)\n",
      "memory usage: 1.7 GB\n"
     ]
    }
   ],
   "source": [
    "C.info()"
   ]
  },
  {
   "cell_type": "code",
   "execution_count": 11,
   "metadata": {},
   "outputs": [],
   "source": [
    "C.to_csv('result_data/test_app_prev_b_merged.csv')"
   ]
  },
  {
   "cell_type": "code",
   "execution_count": null,
   "metadata": {},
   "outputs": [],
   "source": []
  }
 ],
 "metadata": {
  "kernelspec": {
   "display_name": "Python 3",
   "language": "python",
   "name": "python3"
  },
  "language_info": {
   "codemirror_mode": {
    "name": "ipython",
    "version": 3
   },
   "file_extension": ".py",
   "mimetype": "text/x-python",
   "name": "python",
   "nbconvert_exporter": "python",
   "pygments_lexer": "ipython3",
   "version": "3.6.5"
  }
 },
 "nbformat": 4,
 "nbformat_minor": 2
}
